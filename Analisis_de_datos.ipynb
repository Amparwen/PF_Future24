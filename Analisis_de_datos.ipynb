{
  "nbformat": 4,
  "nbformat_minor": 0,
  "metadata": {
    "colab": {
      "provenance": [],
      "authorship_tag": "ABX9TyOIK+O2z6faInwtTAKse7x6",
      "include_colab_link": true
    },
    "kernelspec": {
      "name": "python3",
      "display_name": "Python 3"
    },
    "language_info": {
      "name": "python"
    }
  },
  "cells": [
    {
      "cell_type": "markdown",
      "metadata": {
        "id": "view-in-github",
        "colab_type": "text"
      },
      "source": [
        "<a href=\"https://colab.research.google.com/github/Amparwen/PF_Future24/blob/main/Analisis_de_datos.ipynb\" target=\"_parent\"><img src=\"https://colab.research.google.com/assets/colab-badge.svg\" alt=\"Open In Colab\"/></a>"
      ]
    },
    {
      "cell_type": "code",
      "execution_count": null,
      "metadata": {
        "colab": {
          "base_uri": "https://localhost:8080/"
        },
        "id": "YUT29BGgEf-F",
        "outputId": "cb6ec96d-9f41-4f8b-ce2d-9f44fe43c12f"
      },
      "outputs": [
        {
          "output_type": "stream",
          "name": "stdout",
          "text": [
            "Mounted at /content/drive\n"
          ]
        }
      ],
      "source": [
        "\n",
        "import pandas as pd\n",
        "from datetime import datetime\n",
        "from google.colab import drive\n",
        "from matplotlib import pyplot as plt\n",
        "drive.mount('/content/drive')\n"
      ]
    },
    {
      "cell_type": "code",
      "source": [
        "employee_df=pd.read_csv('/content/drive/MyDrive/PYTHON/employee.csv')\n",
        "project_df=pd.read_csv('/content/drive/MyDrive/PYTHON/projects.csv')\n",
        "asignaciones_df=pd.read_csv('/content/drive/MyDrive/PYTHON/employee_projects.csv')\n"
      ],
      "metadata": {
        "id": "F0Y6TWDAH5Ku"
      },
      "execution_count": null,
      "outputs": []
    },
    {
      "cell_type": "markdown",
      "source": [
        "# Empleados\n"
      ],
      "metadata": {
        "id": "0HcpAdGXAjvY"
      }
    },
    {
      "cell_type": "markdown",
      "source": [
        "Top 5 empleados que más años llevan en la compañía"
      ],
      "metadata": {
        "id": "suvpUG0kIu32"
      }
    },
    {
      "cell_type": "code",
      "source": [
        "# employee_df.columns\n",
        "# Convertimos los datos de las columnas de fecha a tipo datetime\n",
        "employee_df['F_ALTA'] = pd.to_datetime(employee_df['F_ALTA'])\n",
        "employee_df['F_BAJA'] = pd.to_datetime(employee_df['F_BAJA'], errors='coerce')  # En los campos que vengan con null lo transformamos a NaT (Not a Time)\n",
        "\n",
        "# Obtenemos la fecha actual\n",
        "current_date = datetime.now()\n",
        "\n",
        "# Calculamos el tiempo en la compañía (rellenamos los campos que no tienen fecha de baja con la fecha actual para poder hacer el cálculo)\n",
        "employee_df['F_BAJA'] = employee_df['F_BAJA'].fillna(current_date)\n",
        "employee_df['TIEMPO_EN_COMPANIA'] = employee_df['F_BAJA'] - employee_df['F_ALTA']\n",
        "\n",
        "# Ordenamos por el tiempo en la compañía en orden descendente\n",
        "employee_df = employee_df.sort_values(by='TIEMPO_EN_COMPANIA', ascending=False)\n",
        "\n",
        "# Seleccionamos los 5 empleados que más tiempo llevan en la compañía\n",
        "top_5_empleados = employee_df[['TX_NOMBRE','TX_APELLIDO1', 'TX_APELLIDO2','TIEMPO_EN_COMPANIA']].head(5)\n",
        "\n",
        "# Mostrar los resultados\n",
        "top_5_empleados"
      ],
      "metadata": {
        "colab": {
          "base_uri": "https://localhost:8080/",
          "height": 206
        },
        "id": "KWJeZghHIt-j",
        "outputId": "c5c2c973-cdc3-4ed8-90b6-32670b51c6c0"
      },
      "execution_count": null,
      "outputs": [
        {
          "output_type": "execute_result",
          "data": {
            "text/plain": [
              "   TX_NOMBRE TX_APELLIDO1 TX_APELLIDO2        TIEMPO_EN_COMPANIA\n",
              "5      Roana       Mandal     Junkison 8604 days 17:58:29.922408\n",
              "24    Palmer     Cosstick      Sawtell        8072 days 00:00:00\n",
              "4     Cybill      Fincham    Pinchbeck 7848 days 17:58:29.922408\n",
              "21    Alexis      Melling    Schneidar 7235 days 17:58:29.922408\n",
              "3       Merv      Wessing   Pietrowski 6565 days 17:58:29.922408"
            ],
            "text/html": [
              "\n",
              "  <div id=\"df-e9014c17-52f1-44b3-a0bd-6bfbd0c7cf86\" class=\"colab-df-container\">\n",
              "    <div>\n",
              "<style scoped>\n",
              "    .dataframe tbody tr th:only-of-type {\n",
              "        vertical-align: middle;\n",
              "    }\n",
              "\n",
              "    .dataframe tbody tr th {\n",
              "        vertical-align: top;\n",
              "    }\n",
              "\n",
              "    .dataframe thead th {\n",
              "        text-align: right;\n",
              "    }\n",
              "</style>\n",
              "<table border=\"1\" class=\"dataframe\">\n",
              "  <thead>\n",
              "    <tr style=\"text-align: right;\">\n",
              "      <th></th>\n",
              "      <th>TX_NOMBRE</th>\n",
              "      <th>TX_APELLIDO1</th>\n",
              "      <th>TX_APELLIDO2</th>\n",
              "      <th>TIEMPO_EN_COMPANIA</th>\n",
              "    </tr>\n",
              "  </thead>\n",
              "  <tbody>\n",
              "    <tr>\n",
              "      <th>5</th>\n",
              "      <td>Roana</td>\n",
              "      <td>Mandal</td>\n",
              "      <td>Junkison</td>\n",
              "      <td>8604 days 17:58:29.922408</td>\n",
              "    </tr>\n",
              "    <tr>\n",
              "      <th>24</th>\n",
              "      <td>Palmer</td>\n",
              "      <td>Cosstick</td>\n",
              "      <td>Sawtell</td>\n",
              "      <td>8072 days 00:00:00</td>\n",
              "    </tr>\n",
              "    <tr>\n",
              "      <th>4</th>\n",
              "      <td>Cybill</td>\n",
              "      <td>Fincham</td>\n",
              "      <td>Pinchbeck</td>\n",
              "      <td>7848 days 17:58:29.922408</td>\n",
              "    </tr>\n",
              "    <tr>\n",
              "      <th>21</th>\n",
              "      <td>Alexis</td>\n",
              "      <td>Melling</td>\n",
              "      <td>Schneidar</td>\n",
              "      <td>7235 days 17:58:29.922408</td>\n",
              "    </tr>\n",
              "    <tr>\n",
              "      <th>3</th>\n",
              "      <td>Merv</td>\n",
              "      <td>Wessing</td>\n",
              "      <td>Pietrowski</td>\n",
              "      <td>6565 days 17:58:29.922408</td>\n",
              "    </tr>\n",
              "  </tbody>\n",
              "</table>\n",
              "</div>\n",
              "    <div class=\"colab-df-buttons\">\n",
              "\n",
              "  <div class=\"colab-df-container\">\n",
              "    <button class=\"colab-df-convert\" onclick=\"convertToInteractive('df-e9014c17-52f1-44b3-a0bd-6bfbd0c7cf86')\"\n",
              "            title=\"Convert this dataframe to an interactive table.\"\n",
              "            style=\"display:none;\">\n",
              "\n",
              "  <svg xmlns=\"http://www.w3.org/2000/svg\" height=\"24px\" viewBox=\"0 -960 960 960\">\n",
              "    <path d=\"M120-120v-720h720v720H120Zm60-500h600v-160H180v160Zm220 220h160v-160H400v160Zm0 220h160v-160H400v160ZM180-400h160v-160H180v160Zm440 0h160v-160H620v160ZM180-180h160v-160H180v160Zm440 0h160v-160H620v160Z\"/>\n",
              "  </svg>\n",
              "    </button>\n",
              "\n",
              "  <style>\n",
              "    .colab-df-container {\n",
              "      display:flex;\n",
              "      gap: 12px;\n",
              "    }\n",
              "\n",
              "    .colab-df-convert {\n",
              "      background-color: #E8F0FE;\n",
              "      border: none;\n",
              "      border-radius: 50%;\n",
              "      cursor: pointer;\n",
              "      display: none;\n",
              "      fill: #1967D2;\n",
              "      height: 32px;\n",
              "      padding: 0 0 0 0;\n",
              "      width: 32px;\n",
              "    }\n",
              "\n",
              "    .colab-df-convert:hover {\n",
              "      background-color: #E2EBFA;\n",
              "      box-shadow: 0px 1px 2px rgba(60, 64, 67, 0.3), 0px 1px 3px 1px rgba(60, 64, 67, 0.15);\n",
              "      fill: #174EA6;\n",
              "    }\n",
              "\n",
              "    .colab-df-buttons div {\n",
              "      margin-bottom: 4px;\n",
              "    }\n",
              "\n",
              "    [theme=dark] .colab-df-convert {\n",
              "      background-color: #3B4455;\n",
              "      fill: #D2E3FC;\n",
              "    }\n",
              "\n",
              "    [theme=dark] .colab-df-convert:hover {\n",
              "      background-color: #434B5C;\n",
              "      box-shadow: 0px 1px 3px 1px rgba(0, 0, 0, 0.15);\n",
              "      filter: drop-shadow(0px 1px 2px rgba(0, 0, 0, 0.3));\n",
              "      fill: #FFFFFF;\n",
              "    }\n",
              "  </style>\n",
              "\n",
              "    <script>\n",
              "      const buttonEl =\n",
              "        document.querySelector('#df-e9014c17-52f1-44b3-a0bd-6bfbd0c7cf86 button.colab-df-convert');\n",
              "      buttonEl.style.display =\n",
              "        google.colab.kernel.accessAllowed ? 'block' : 'none';\n",
              "\n",
              "      async function convertToInteractive(key) {\n",
              "        const element = document.querySelector('#df-e9014c17-52f1-44b3-a0bd-6bfbd0c7cf86');\n",
              "        const dataTable =\n",
              "          await google.colab.kernel.invokeFunction('convertToInteractive',\n",
              "                                                    [key], {});\n",
              "        if (!dataTable) return;\n",
              "\n",
              "        const docLinkHtml = 'Like what you see? Visit the ' +\n",
              "          '<a target=\"_blank\" href=https://colab.research.google.com/notebooks/data_table.ipynb>data table notebook</a>'\n",
              "          + ' to learn more about interactive tables.';\n",
              "        element.innerHTML = '';\n",
              "        dataTable['output_type'] = 'display_data';\n",
              "        await google.colab.output.renderOutput(dataTable, element);\n",
              "        const docLink = document.createElement('div');\n",
              "        docLink.innerHTML = docLinkHtml;\n",
              "        element.appendChild(docLink);\n",
              "      }\n",
              "    </script>\n",
              "  </div>\n",
              "\n",
              "\n",
              "<div id=\"df-6b0f5b3e-6783-45db-a07a-9d6af1d0f7c5\">\n",
              "  <button class=\"colab-df-quickchart\" onclick=\"quickchart('df-6b0f5b3e-6783-45db-a07a-9d6af1d0f7c5')\"\n",
              "            title=\"Suggest charts\"\n",
              "            style=\"display:none;\">\n",
              "\n",
              "<svg xmlns=\"http://www.w3.org/2000/svg\" height=\"24px\"viewBox=\"0 0 24 24\"\n",
              "     width=\"24px\">\n",
              "    <g>\n",
              "        <path d=\"M19 3H5c-1.1 0-2 .9-2 2v14c0 1.1.9 2 2 2h14c1.1 0 2-.9 2-2V5c0-1.1-.9-2-2-2zM9 17H7v-7h2v7zm4 0h-2V7h2v10zm4 0h-2v-4h2v4z\"/>\n",
              "    </g>\n",
              "</svg>\n",
              "  </button>\n",
              "\n",
              "<style>\n",
              "  .colab-df-quickchart {\n",
              "      --bg-color: #E8F0FE;\n",
              "      --fill-color: #1967D2;\n",
              "      --hover-bg-color: #E2EBFA;\n",
              "      --hover-fill-color: #174EA6;\n",
              "      --disabled-fill-color: #AAA;\n",
              "      --disabled-bg-color: #DDD;\n",
              "  }\n",
              "\n",
              "  [theme=dark] .colab-df-quickchart {\n",
              "      --bg-color: #3B4455;\n",
              "      --fill-color: #D2E3FC;\n",
              "      --hover-bg-color: #434B5C;\n",
              "      --hover-fill-color: #FFFFFF;\n",
              "      --disabled-bg-color: #3B4455;\n",
              "      --disabled-fill-color: #666;\n",
              "  }\n",
              "\n",
              "  .colab-df-quickchart {\n",
              "    background-color: var(--bg-color);\n",
              "    border: none;\n",
              "    border-radius: 50%;\n",
              "    cursor: pointer;\n",
              "    display: none;\n",
              "    fill: var(--fill-color);\n",
              "    height: 32px;\n",
              "    padding: 0;\n",
              "    width: 32px;\n",
              "  }\n",
              "\n",
              "  .colab-df-quickchart:hover {\n",
              "    background-color: var(--hover-bg-color);\n",
              "    box-shadow: 0 1px 2px rgba(60, 64, 67, 0.3), 0 1px 3px 1px rgba(60, 64, 67, 0.15);\n",
              "    fill: var(--button-hover-fill-color);\n",
              "  }\n",
              "\n",
              "  .colab-df-quickchart-complete:disabled,\n",
              "  .colab-df-quickchart-complete:disabled:hover {\n",
              "    background-color: var(--disabled-bg-color);\n",
              "    fill: var(--disabled-fill-color);\n",
              "    box-shadow: none;\n",
              "  }\n",
              "\n",
              "  .colab-df-spinner {\n",
              "    border: 2px solid var(--fill-color);\n",
              "    border-color: transparent;\n",
              "    border-bottom-color: var(--fill-color);\n",
              "    animation:\n",
              "      spin 1s steps(1) infinite;\n",
              "  }\n",
              "\n",
              "  @keyframes spin {\n",
              "    0% {\n",
              "      border-color: transparent;\n",
              "      border-bottom-color: var(--fill-color);\n",
              "      border-left-color: var(--fill-color);\n",
              "    }\n",
              "    20% {\n",
              "      border-color: transparent;\n",
              "      border-left-color: var(--fill-color);\n",
              "      border-top-color: var(--fill-color);\n",
              "    }\n",
              "    30% {\n",
              "      border-color: transparent;\n",
              "      border-left-color: var(--fill-color);\n",
              "      border-top-color: var(--fill-color);\n",
              "      border-right-color: var(--fill-color);\n",
              "    }\n",
              "    40% {\n",
              "      border-color: transparent;\n",
              "      border-right-color: var(--fill-color);\n",
              "      border-top-color: var(--fill-color);\n",
              "    }\n",
              "    60% {\n",
              "      border-color: transparent;\n",
              "      border-right-color: var(--fill-color);\n",
              "    }\n",
              "    80% {\n",
              "      border-color: transparent;\n",
              "      border-right-color: var(--fill-color);\n",
              "      border-bottom-color: var(--fill-color);\n",
              "    }\n",
              "    90% {\n",
              "      border-color: transparent;\n",
              "      border-bottom-color: var(--fill-color);\n",
              "    }\n",
              "  }\n",
              "</style>\n",
              "\n",
              "  <script>\n",
              "    async function quickchart(key) {\n",
              "      const quickchartButtonEl =\n",
              "        document.querySelector('#' + key + ' button');\n",
              "      quickchartButtonEl.disabled = true;  // To prevent multiple clicks.\n",
              "      quickchartButtonEl.classList.add('colab-df-spinner');\n",
              "      try {\n",
              "        const charts = await google.colab.kernel.invokeFunction(\n",
              "            'suggestCharts', [key], {});\n",
              "      } catch (error) {\n",
              "        console.error('Error during call to suggestCharts:', error);\n",
              "      }\n",
              "      quickchartButtonEl.classList.remove('colab-df-spinner');\n",
              "      quickchartButtonEl.classList.add('colab-df-quickchart-complete');\n",
              "    }\n",
              "    (() => {\n",
              "      let quickchartButtonEl =\n",
              "        document.querySelector('#df-6b0f5b3e-6783-45db-a07a-9d6af1d0f7c5 button');\n",
              "      quickchartButtonEl.style.display =\n",
              "        google.colab.kernel.accessAllowed ? 'block' : 'none';\n",
              "    })();\n",
              "  </script>\n",
              "</div>\n",
              "    </div>\n",
              "  </div>\n"
            ],
            "application/vnd.google.colaboratory.intrinsic+json": {
              "type": "dataframe",
              "variable_name": "top_5_empleados",
              "summary": "{\n  \"name\": \"top_5_empleados\",\n  \"rows\": 5,\n  \"fields\": [\n    {\n      \"column\": \"TX_NOMBRE\",\n      \"properties\": {\n        \"dtype\": \"string\",\n        \"num_unique_values\": 5,\n        \"samples\": [\n          \"Palmer\",\n          \"Merv\",\n          \"Cybill\"\n        ],\n        \"semantic_type\": \"\",\n        \"description\": \"\"\n      }\n    },\n    {\n      \"column\": \"TX_APELLIDO1\",\n      \"properties\": {\n        \"dtype\": \"string\",\n        \"num_unique_values\": 5,\n        \"samples\": [\n          \"Cosstick\",\n          \"Wessing\",\n          \"Fincham\"\n        ],\n        \"semantic_type\": \"\",\n        \"description\": \"\"\n      }\n    },\n    {\n      \"column\": \"TX_APELLIDO2\",\n      \"properties\": {\n        \"dtype\": \"string\",\n        \"num_unique_values\": 5,\n        \"samples\": [\n          \"Sawtell\",\n          \"Pietrowski\",\n          \"Pinchbeck\"\n        ],\n        \"semantic_type\": \"\",\n        \"description\": \"\"\n      }\n    },\n    {\n      \"column\": \"TIEMPO_EN_COMPANIA\",\n      \"properties\": {\n        \"dtype\": \"timedelta64[ns]\",\n        \"num_unique_values\": 5,\n        \"samples\": [\n          \"8072 days 00:00:00\",\n          \"6565 days 17:58:29.922408\",\n          \"7848 days 17:58:29.922408\"\n        ],\n        \"semantic_type\": \"\",\n        \"description\": \"\"\n      }\n    }\n  ]\n}"
            }
          },
          "metadata": {},
          "execution_count": 247
        }
      ]
    },
    {
      "cell_type": "markdown",
      "source": [
        "Top 5 empleados más recientes"
      ],
      "metadata": {
        "id": "P0yuo6c8SgJy"
      }
    },
    {
      "cell_type": "code",
      "source": [
        "# Siguiendo con el calculo anterior\n",
        "# Ordenamos por el tiempo en la compañía en orden ascendente (de menos a mas tiempo)\n",
        "employee_df = employee_df.sort_values(by='TIEMPO_EN_COMPANIA', ascending=True)\n",
        "# Seleccionamos los 5 empleados que menos tiempo llevan en la compañía\n",
        "top_5_empleados = employee_df[['TX_NOMBRE','TX_APELLIDO1', 'TX_APELLIDO2','TIEMPO_EN_COMPANIA']].head(5)\n",
        "# Mostramos los resultados\n",
        "top_5_empleados"
      ],
      "metadata": {
        "colab": {
          "base_uri": "https://localhost:8080/",
          "height": 206
        },
        "id": "LnfAeBwdSfrL",
        "outputId": "661b711b-65b2-44a2-e5dc-cd5d618da20d"
      },
      "execution_count": null,
      "outputs": [
        {
          "output_type": "execute_result",
          "data": {
            "text/plain": [
              "   TX_NOMBRE TX_APELLIDO1 TX_APELLIDO2       TIEMPO_EN_COMPANIA\n",
              "25  Jennifer     Madrigal        Perez   4 days 17:07:34.456435\n",
              "12       Ted        Maior  Battlestone 161 days 17:07:34.456435\n",
              "0      Silva         Bril     Martinez        383 days 00:00:00\n",
              "23    Tallou        Lucio      Meldrum 500 days 17:07:34.456435\n",
              "11     Jocko    McGonigal    Arrighini 527 days 17:07:34.456435"
            ],
            "text/html": [
              "\n",
              "  <div id=\"df-4a504460-e9df-4e46-add4-dccd5c4c4345\" class=\"colab-df-container\">\n",
              "    <div>\n",
              "<style scoped>\n",
              "    .dataframe tbody tr th:only-of-type {\n",
              "        vertical-align: middle;\n",
              "    }\n",
              "\n",
              "    .dataframe tbody tr th {\n",
              "        vertical-align: top;\n",
              "    }\n",
              "\n",
              "    .dataframe thead th {\n",
              "        text-align: right;\n",
              "    }\n",
              "</style>\n",
              "<table border=\"1\" class=\"dataframe\">\n",
              "  <thead>\n",
              "    <tr style=\"text-align: right;\">\n",
              "      <th></th>\n",
              "      <th>TX_NOMBRE</th>\n",
              "      <th>TX_APELLIDO1</th>\n",
              "      <th>TX_APELLIDO2</th>\n",
              "      <th>TIEMPO_EN_COMPANIA</th>\n",
              "    </tr>\n",
              "  </thead>\n",
              "  <tbody>\n",
              "    <tr>\n",
              "      <th>25</th>\n",
              "      <td>Jennifer</td>\n",
              "      <td>Madrigal</td>\n",
              "      <td>Perez</td>\n",
              "      <td>4 days 17:07:34.456435</td>\n",
              "    </tr>\n",
              "    <tr>\n",
              "      <th>12</th>\n",
              "      <td>Ted</td>\n",
              "      <td>Maior</td>\n",
              "      <td>Battlestone</td>\n",
              "      <td>161 days 17:07:34.456435</td>\n",
              "    </tr>\n",
              "    <tr>\n",
              "      <th>0</th>\n",
              "      <td>Silva</td>\n",
              "      <td>Bril</td>\n",
              "      <td>Martinez</td>\n",
              "      <td>383 days 00:00:00</td>\n",
              "    </tr>\n",
              "    <tr>\n",
              "      <th>23</th>\n",
              "      <td>Tallou</td>\n",
              "      <td>Lucio</td>\n",
              "      <td>Meldrum</td>\n",
              "      <td>500 days 17:07:34.456435</td>\n",
              "    </tr>\n",
              "    <tr>\n",
              "      <th>11</th>\n",
              "      <td>Jocko</td>\n",
              "      <td>McGonigal</td>\n",
              "      <td>Arrighini</td>\n",
              "      <td>527 days 17:07:34.456435</td>\n",
              "    </tr>\n",
              "  </tbody>\n",
              "</table>\n",
              "</div>\n",
              "    <div class=\"colab-df-buttons\">\n",
              "\n",
              "  <div class=\"colab-df-container\">\n",
              "    <button class=\"colab-df-convert\" onclick=\"convertToInteractive('df-4a504460-e9df-4e46-add4-dccd5c4c4345')\"\n",
              "            title=\"Convert this dataframe to an interactive table.\"\n",
              "            style=\"display:none;\">\n",
              "\n",
              "  <svg xmlns=\"http://www.w3.org/2000/svg\" height=\"24px\" viewBox=\"0 -960 960 960\">\n",
              "    <path d=\"M120-120v-720h720v720H120Zm60-500h600v-160H180v160Zm220 220h160v-160H400v160Zm0 220h160v-160H400v160ZM180-400h160v-160H180v160Zm440 0h160v-160H620v160ZM180-180h160v-160H180v160Zm440 0h160v-160H620v160Z\"/>\n",
              "  </svg>\n",
              "    </button>\n",
              "\n",
              "  <style>\n",
              "    .colab-df-container {\n",
              "      display:flex;\n",
              "      gap: 12px;\n",
              "    }\n",
              "\n",
              "    .colab-df-convert {\n",
              "      background-color: #E8F0FE;\n",
              "      border: none;\n",
              "      border-radius: 50%;\n",
              "      cursor: pointer;\n",
              "      display: none;\n",
              "      fill: #1967D2;\n",
              "      height: 32px;\n",
              "      padding: 0 0 0 0;\n",
              "      width: 32px;\n",
              "    }\n",
              "\n",
              "    .colab-df-convert:hover {\n",
              "      background-color: #E2EBFA;\n",
              "      box-shadow: 0px 1px 2px rgba(60, 64, 67, 0.3), 0px 1px 3px 1px rgba(60, 64, 67, 0.15);\n",
              "      fill: #174EA6;\n",
              "    }\n",
              "\n",
              "    .colab-df-buttons div {\n",
              "      margin-bottom: 4px;\n",
              "    }\n",
              "\n",
              "    [theme=dark] .colab-df-convert {\n",
              "      background-color: #3B4455;\n",
              "      fill: #D2E3FC;\n",
              "    }\n",
              "\n",
              "    [theme=dark] .colab-df-convert:hover {\n",
              "      background-color: #434B5C;\n",
              "      box-shadow: 0px 1px 3px 1px rgba(0, 0, 0, 0.15);\n",
              "      filter: drop-shadow(0px 1px 2px rgba(0, 0, 0, 0.3));\n",
              "      fill: #FFFFFF;\n",
              "    }\n",
              "  </style>\n",
              "\n",
              "    <script>\n",
              "      const buttonEl =\n",
              "        document.querySelector('#df-4a504460-e9df-4e46-add4-dccd5c4c4345 button.colab-df-convert');\n",
              "      buttonEl.style.display =\n",
              "        google.colab.kernel.accessAllowed ? 'block' : 'none';\n",
              "\n",
              "      async function convertToInteractive(key) {\n",
              "        const element = document.querySelector('#df-4a504460-e9df-4e46-add4-dccd5c4c4345');\n",
              "        const dataTable =\n",
              "          await google.colab.kernel.invokeFunction('convertToInteractive',\n",
              "                                                    [key], {});\n",
              "        if (!dataTable) return;\n",
              "\n",
              "        const docLinkHtml = 'Like what you see? Visit the ' +\n",
              "          '<a target=\"_blank\" href=https://colab.research.google.com/notebooks/data_table.ipynb>data table notebook</a>'\n",
              "          + ' to learn more about interactive tables.';\n",
              "        element.innerHTML = '';\n",
              "        dataTable['output_type'] = 'display_data';\n",
              "        await google.colab.output.renderOutput(dataTable, element);\n",
              "        const docLink = document.createElement('div');\n",
              "        docLink.innerHTML = docLinkHtml;\n",
              "        element.appendChild(docLink);\n",
              "      }\n",
              "    </script>\n",
              "  </div>\n",
              "\n",
              "\n",
              "<div id=\"df-4555f635-ecbf-4cb5-b678-38f7f9d24587\">\n",
              "  <button class=\"colab-df-quickchart\" onclick=\"quickchart('df-4555f635-ecbf-4cb5-b678-38f7f9d24587')\"\n",
              "            title=\"Suggest charts\"\n",
              "            style=\"display:none;\">\n",
              "\n",
              "<svg xmlns=\"http://www.w3.org/2000/svg\" height=\"24px\"viewBox=\"0 0 24 24\"\n",
              "     width=\"24px\">\n",
              "    <g>\n",
              "        <path d=\"M19 3H5c-1.1 0-2 .9-2 2v14c0 1.1.9 2 2 2h14c1.1 0 2-.9 2-2V5c0-1.1-.9-2-2-2zM9 17H7v-7h2v7zm4 0h-2V7h2v10zm4 0h-2v-4h2v4z\"/>\n",
              "    </g>\n",
              "</svg>\n",
              "  </button>\n",
              "\n",
              "<style>\n",
              "  .colab-df-quickchart {\n",
              "      --bg-color: #E8F0FE;\n",
              "      --fill-color: #1967D2;\n",
              "      --hover-bg-color: #E2EBFA;\n",
              "      --hover-fill-color: #174EA6;\n",
              "      --disabled-fill-color: #AAA;\n",
              "      --disabled-bg-color: #DDD;\n",
              "  }\n",
              "\n",
              "  [theme=dark] .colab-df-quickchart {\n",
              "      --bg-color: #3B4455;\n",
              "      --fill-color: #D2E3FC;\n",
              "      --hover-bg-color: #434B5C;\n",
              "      --hover-fill-color: #FFFFFF;\n",
              "      --disabled-bg-color: #3B4455;\n",
              "      --disabled-fill-color: #666;\n",
              "  }\n",
              "\n",
              "  .colab-df-quickchart {\n",
              "    background-color: var(--bg-color);\n",
              "    border: none;\n",
              "    border-radius: 50%;\n",
              "    cursor: pointer;\n",
              "    display: none;\n",
              "    fill: var(--fill-color);\n",
              "    height: 32px;\n",
              "    padding: 0;\n",
              "    width: 32px;\n",
              "  }\n",
              "\n",
              "  .colab-df-quickchart:hover {\n",
              "    background-color: var(--hover-bg-color);\n",
              "    box-shadow: 0 1px 2px rgba(60, 64, 67, 0.3), 0 1px 3px 1px rgba(60, 64, 67, 0.15);\n",
              "    fill: var(--button-hover-fill-color);\n",
              "  }\n",
              "\n",
              "  .colab-df-quickchart-complete:disabled,\n",
              "  .colab-df-quickchart-complete:disabled:hover {\n",
              "    background-color: var(--disabled-bg-color);\n",
              "    fill: var(--disabled-fill-color);\n",
              "    box-shadow: none;\n",
              "  }\n",
              "\n",
              "  .colab-df-spinner {\n",
              "    border: 2px solid var(--fill-color);\n",
              "    border-color: transparent;\n",
              "    border-bottom-color: var(--fill-color);\n",
              "    animation:\n",
              "      spin 1s steps(1) infinite;\n",
              "  }\n",
              "\n",
              "  @keyframes spin {\n",
              "    0% {\n",
              "      border-color: transparent;\n",
              "      border-bottom-color: var(--fill-color);\n",
              "      border-left-color: var(--fill-color);\n",
              "    }\n",
              "    20% {\n",
              "      border-color: transparent;\n",
              "      border-left-color: var(--fill-color);\n",
              "      border-top-color: var(--fill-color);\n",
              "    }\n",
              "    30% {\n",
              "      border-color: transparent;\n",
              "      border-left-color: var(--fill-color);\n",
              "      border-top-color: var(--fill-color);\n",
              "      border-right-color: var(--fill-color);\n",
              "    }\n",
              "    40% {\n",
              "      border-color: transparent;\n",
              "      border-right-color: var(--fill-color);\n",
              "      border-top-color: var(--fill-color);\n",
              "    }\n",
              "    60% {\n",
              "      border-color: transparent;\n",
              "      border-right-color: var(--fill-color);\n",
              "    }\n",
              "    80% {\n",
              "      border-color: transparent;\n",
              "      border-right-color: var(--fill-color);\n",
              "      border-bottom-color: var(--fill-color);\n",
              "    }\n",
              "    90% {\n",
              "      border-color: transparent;\n",
              "      border-bottom-color: var(--fill-color);\n",
              "    }\n",
              "  }\n",
              "</style>\n",
              "\n",
              "  <script>\n",
              "    async function quickchart(key) {\n",
              "      const quickchartButtonEl =\n",
              "        document.querySelector('#' + key + ' button');\n",
              "      quickchartButtonEl.disabled = true;  // To prevent multiple clicks.\n",
              "      quickchartButtonEl.classList.add('colab-df-spinner');\n",
              "      try {\n",
              "        const charts = await google.colab.kernel.invokeFunction(\n",
              "            'suggestCharts', [key], {});\n",
              "      } catch (error) {\n",
              "        console.error('Error during call to suggestCharts:', error);\n",
              "      }\n",
              "      quickchartButtonEl.classList.remove('colab-df-spinner');\n",
              "      quickchartButtonEl.classList.add('colab-df-quickchart-complete');\n",
              "    }\n",
              "    (() => {\n",
              "      let quickchartButtonEl =\n",
              "        document.querySelector('#df-4555f635-ecbf-4cb5-b678-38f7f9d24587 button');\n",
              "      quickchartButtonEl.style.display =\n",
              "        google.colab.kernel.accessAllowed ? 'block' : 'none';\n",
              "    })();\n",
              "  </script>\n",
              "</div>\n",
              "    </div>\n",
              "  </div>\n"
            ],
            "application/vnd.google.colaboratory.intrinsic+json": {
              "type": "dataframe",
              "variable_name": "top_5_empleados",
              "summary": "{\n  \"name\": \"top_5_empleados\",\n  \"rows\": 5,\n  \"fields\": [\n    {\n      \"column\": \"TX_NOMBRE\",\n      \"properties\": {\n        \"dtype\": \"string\",\n        \"num_unique_values\": 5,\n        \"samples\": [\n          \"Ted\",\n          \"Jocko\",\n          \"Silva\"\n        ],\n        \"semantic_type\": \"\",\n        \"description\": \"\"\n      }\n    },\n    {\n      \"column\": \"TX_APELLIDO1\",\n      \"properties\": {\n        \"dtype\": \"string\",\n        \"num_unique_values\": 5,\n        \"samples\": [\n          \"Maior\",\n          \"McGonigal\",\n          \"Bril\"\n        ],\n        \"semantic_type\": \"\",\n        \"description\": \"\"\n      }\n    },\n    {\n      \"column\": \"TX_APELLIDO2\",\n      \"properties\": {\n        \"dtype\": \"string\",\n        \"num_unique_values\": 5,\n        \"samples\": [\n          \"Battlestone\",\n          \"Arrighini\",\n          \"Martinez\"\n        ],\n        \"semantic_type\": \"\",\n        \"description\": \"\"\n      }\n    },\n    {\n      \"column\": \"TIEMPO_EN_COMPANIA\",\n      \"properties\": {\n        \"dtype\": \"timedelta64[ns]\",\n        \"num_unique_values\": 5,\n        \"samples\": [\n          \"161 days 17:07:34.456435\",\n          \"527 days 17:07:34.456435\",\n          \"383 days 00:00:00\"\n        ],\n        \"semantic_type\": \"\",\n        \"description\": \"\"\n      }\n    }\n  ]\n}"
            }
          },
          "metadata": {},
          "execution_count": 191
        }
      ]
    },
    {
      "cell_type": "markdown",
      "source": [
        "Distribución del número de años de los empleados en la empresa"
      ],
      "metadata": {
        "id": "opOJsTqsVv-S"
      }
    },
    {
      "cell_type": "code",
      "source": [
        "#Calculamos los días que lleva cada empleado en la empresa\n",
        "employee_df['TIEMPO_EN_COMPANIA'] = (employee_df['F_BAJA'] - employee_df['F_ALTA']).dt.days\n",
        "#Calculamos los años de cada empleado en la empresa\n",
        "employee_df['ANIOS_EN_COMPANIA'] =(employee_df['TIEMPO_EN_COMPANIA']/365.25).round(0)\n",
        "\n",
        "#Agrupamos por años y contamos cuantos empleados hay por cada periodo\n",
        "grouped=employee_df.groupby(['ANIOS_EN_COMPANIA']).size().reset_index()\n",
        "# Damos nombre a las columnas que hemos creado\n",
        "grouped.columns = ['Años', 'Empleados']\n",
        "# Mostramos los resultados\n",
        "print(grouped)\n",
        "\n",
        "#Creamos un histograma\n",
        "plt.hist(grouped['Años'], zorder=2)\n",
        "plt.title('Distribución del número de años de los empleados en la empresa')\n",
        "plt.xlabel('Años en la compañia')\n",
        "plt.ylabel('Empleados')\n",
        "plt.grid(True, axis='y', linestyle='--', linewidth=1, zorder=0)#zorder = capa para que se vea por debajo de las barras\n",
        "plt.xticks([0,2,4,6,8,10,12,14,16,18,20,22,24])\n",
        "plt.show()"
      ],
      "metadata": {
        "colab": {
          "base_uri": "https://localhost:8080/",
          "height": 764
        },
        "id": "WmXqSyVcV_d6",
        "outputId": "1abb8c75-be6b-4dd1-ef41-ea266308db40"
      },
      "execution_count": null,
      "outputs": [
        {
          "output_type": "stream",
          "name": "stdout",
          "text": [
            "    Años  Empleados\n",
            "0    0.0          2\n",
            "1    1.0          3\n",
            "2    2.0          1\n",
            "3    3.0          2\n",
            "4    5.0          2\n",
            "5    8.0          3\n",
            "6    9.0          1\n",
            "7   10.0          3\n",
            "8   11.0          1\n",
            "9   12.0          1\n",
            "10  18.0          3\n",
            "11  20.0          1\n",
            "12  21.0          1\n",
            "13  22.0          1\n",
            "14  24.0          1\n"
          ]
        },
        {
          "output_type": "display_data",
          "data": {
            "text/plain": [
              "<Figure size 640x480 with 1 Axes>"
            ],
            "image/png": "[encoded data removed]"
          },
          "metadata": {}
        }
      ]
    },
    {
      "cell_type": "markdown",
      "source": [
        "Evolución temporal de altas por años"
      ],
      "metadata": {
        "id": "okynL-i2VMkl"
      }
    },
    {
      "cell_type": "code",
      "source": [
        "# Nos aseguramos de que los datos estén en formato datetime\n",
        "employee_df['F_ALTA'] = pd.to_datetime(employee_df['F_ALTA'])\n",
        "# Extraemos el año de la fecha, contamos la frecuencia de cada año, ordenamos los datos por los años y convertimos la serie en un DataFrame al restablecer el índice\n",
        "altas_por_anio = employee_df['F_ALTA'].dt.year.value_counts().sort_index().reset_index()\n",
        "\n",
        "\n",
        "# Damos nombre a las columnas que hemos creado\n",
        "altas_por_anio.columns = ['Año', 'Empleados']\n",
        "\n",
        "print(altas_por_anio)\n",
        "# # Creamos el gráfico de la evolución temporal de las altas por año\n",
        "plt.figure(figsize=(15, 6))\n",
        "plt.bar(altas_por_anio['Año'], altas_por_anio['Empleados'], zorder=2, align='center')\n",
        "plt.title('Evolución temporal de altas por años')\n",
        "plt.xlabel('Año')\n",
        "plt.ylabel('Número de Altas')\n",
        "plt.xticks(altas_por_anio['Año'])\n",
        "plt.grid(True, axis='y', linestyle='--', linewidth=1, zorder=0)\n",
        "plt.show()"
      ],
      "metadata": {
        "colab": {
          "base_uri": "https://localhost:8080/",
          "height": 894
        },
        "id": "PR_I9FbsWKkq",
        "outputId": "a3554aa0-8884-4394-d26e-3278330e591c"
      },
      "execution_count": null,
      "outputs": [
        {
          "output_type": "stream",
          "name": "stdout",
          "text": [
            "     Año  Empleados\n",
            "0   2000          3\n",
            "1   2002          1\n",
            "2   2003          2\n",
            "3   2004          1\n",
            "4   2005          2\n",
            "5   2006          3\n",
            "6   2007          1\n",
            "7   2012          1\n",
            "8   2013          1\n",
            "9   2014          1\n",
            "10  2015          2\n",
            "11  2016          1\n",
            "12  2018          2\n",
            "13  2019          1\n",
            "14  2022          1\n",
            "15  2023          2\n",
            "16  2024          1\n"
          ]
        },
        {
          "output_type": "display_data",
          "data": {
            "text/plain": [
              "<Figure size 1500x600 with 1 Axes>"
            ],
            "image/png": "[encoded data removed]"
          },
          "metadata": {}
        }
      ]
    },
    {
      "cell_type": "markdown",
      "source": [
        "Evolución temporal de bajas por años"
      ],
      "metadata": {
        "id": "2tyz_UuZV08Q"
      }
    },
    {
      "cell_type": "code",
      "source": [
        "#Reestablecemos los datos en el Dataframe de empleados\n",
        "employee_df=pd.read_csv('/content/drive/MyDrive/PYTHON/employee.csv')\n",
        "\n",
        "# Convertimos los datos de la columna F_BAJA en un tipo datetime\n",
        "employee_df['F_BAJA'] = pd.to_datetime(employee_df['F_BAJA'], errors='coerce')\n",
        "\n",
        "# Filtramos las filas donde F_BAJA no es NaN\n",
        "bajas_validas = employee_df['F_BAJA'].dropna()\n",
        "\n",
        "# Contamos el número de bajas por año y creamos un dataframe con los datos\n",
        "bajas_por_anio = bajas_validas.dt.year.value_counts().sort_index().reset_index()\n",
        "bajas_por_anio.columns = ['Año', 'Empleados']\n",
        "\n",
        "# Mostramos los datos\n",
        "print(bajas_por_anio)\n",
        "\n",
        "# Creamos el gráfico de la evolución temporal de las bajas por año\n",
        "plt.figure(figsize=(10, 6))\n",
        "plt.bar(bajas_por_anio['Año'], bajas_por_anio['Empleados'], color='salmon', edgecolor='black', zorder=2, align='center')\n",
        "plt.title('Evolución temporal de bajas por años')\n",
        "plt.xlabel('Año')\n",
        "plt.ylabel('Número de Bajas')\n",
        "plt.grid(axis='y')\n",
        "plt.xticks(bajas_por_anio['Año'])\n",
        "plt.show()\n"
      ],
      "metadata": {
        "colab": {
          "base_uri": "https://localhost:8080/",
          "height": 711
        },
        "id": "RR4C6CTWse0z",
        "outputId": "daf67116-3fb7-46f4-fc70-88df9763e049"
      },
      "execution_count": null,
      "outputs": [
        {
          "output_type": "stream",
          "name": "stdout",
          "text": [
            "    Año  Empleados\n",
            "0  2004          1\n",
            "1  2008          2\n",
            "2  2010          1\n",
            "3  2014          1\n",
            "4  2015          1\n",
            "5  2020          1\n",
            "6  2022          1\n"
          ]
        },
        {
          "output_type": "display_data",
          "data": {
            "text/plain": [
              "<Figure size 1000x600 with 1 Axes>"
            ],
            "image/png": "[encoded data removed]"
          },
          "metadata": {}
        }
      ]
    },
    {
      "cell_type": "markdown",
      "source": [
        "¿Cuáles han sido los dos años de mayor crecimiento/decrecimiento de empleados?"
      ],
      "metadata": {
        "id": "NDG7F7nC3Shi"
      }
    },
    {
      "cell_type": "code",
      "source": [
        "\n",
        "# Convertimos las columnas F_ALTA y F_BAJA a tipo datetime\n",
        "employee_df['F_ALTA'] = pd.to_datetime(employee_df['F_ALTA'])\n",
        "employee_df['F_BAJA'] = pd.to_datetime(employee_df['F_BAJA'], errors='coerce')\n",
        "\n",
        "# Contamos altas y bajas por año\n",
        "altas_por_anio = employee_df['F_ALTA'].dt.year.value_counts().sort_index().reset_index()\n",
        "altas_por_anio.columns = ['Año', 'Altas']\n",
        "# print(altas_por_anio)\n",
        "\n",
        "bajas_por_anio = employee_df['F_BAJA'].dropna().dt.year.value_counts().sort_index().reset_index()\n",
        "bajas_por_anio.columns = ['Año', 'Bajas']\n",
        "# print(bajas_por_anio)\n",
        "\n",
        "# Unimos las altas y bajas por año en un solo DataFrame\n",
        "crecimiento_df = pd.merge(altas_por_anio, bajas_por_anio, on='Año', how='outer').fillna(0)\n",
        "crecimiento_df['Altas'] = crecimiento_df['Altas'].astype(int)\n",
        "crecimiento_df['Bajas'] = crecimiento_df['Bajas'].astype(int)\n",
        "crecimiento_df['Crecimiento_Neto'] = crecimiento_df['Altas'] - crecimiento_df['Bajas']\n",
        "\n",
        "# Calcular el crecimiento/decrecimiento\n",
        "crecimiento_df['Cambio_Anual'] = crecimiento_df['Crecimiento_Neto'].diff().fillna(0).astype(int)\n",
        "\n",
        "# Obtener los dos años con mayor crecimiento y decrecimiento\n",
        "mayor_crecimiento = crecimiento_df.sort_values(by='Cambio_Anual', ascending=False).head(2)\n",
        "mayor_decrecimiento = crecimiento_df.sort_values(by='Cambio_Anual').head(2)\n",
        "\n",
        "print(\"Años de mayor crecimiento:\")\n",
        "print(mayor_crecimiento)\n",
        "\n",
        "print(\"Años de mayor decrecimiento:\")\n",
        "print(mayor_decrecimiento)"
      ],
      "metadata": {
        "colab": {
          "base_uri": "https://localhost:8080/"
        },
        "id": "y0aMPtj-3PNw",
        "outputId": "e9e3dfdd-20cf-49ce-d46e-c494217ff881"
      },
      "execution_count": null,
      "outputs": [
        {
          "output_type": "stream",
          "name": "stdout",
          "text": [
            "Años de mayor crecimiento:\n",
            "     Año  Altas  Bajas  Crecimiento_Neto  Cambio_Anual\n",
            "4   2005      2      0                 2             2\n",
            "15  2023      2      0                 2             2\n",
            "Años de mayor decrecimiento:\n",
            "     Año  Altas  Bajas  Crecimiento_Neto  Cambio_Anual\n",
            "17  2008      0      2                -2            -3\n",
            "1   2002      1      0                 1            -2\n"
          ]
        }
      ]
    },
    {
      "cell_type": "markdown",
      "source": [
        "\n",
        "- Distribución de empleados solteros vs casados\n"
      ],
      "metadata": {
        "id": "CSaOIopdV7jF"
      }
    },
    {
      "cell_type": "code",
      "source": [
        "# Contar empleados solteros vs casados\n",
        "distribucion_edocivil = employee_df['CX_EDOCIVIL'].value_counts()\n",
        "\n",
        "# Crear el gráfico de distribución\n",
        "plt.figure(figsize=(8, 6))\n",
        "distribucion_edocivil.plot(kind='bar', color=['skyblue', 'salmon'], edgecolor='black')\n",
        "plt.title('Distribución de Empleados Solteros vs Casados')\n",
        "plt.xlabel('Estado Civil')\n",
        "plt.ylabel('Número de Empleados')\n",
        "plt.xticks(rotation=0)\n",
        "plt.show()"
      ],
      "metadata": {
        "colab": {
          "base_uri": "https://localhost:8080/",
          "height": 565
        },
        "id": "5koJe3123k1v",
        "outputId": "474fbb62-d521-44f5-fc6a-cdae3d09e737"
      },
      "execution_count": null,
      "outputs": [
        {
          "output_type": "display_data",
          "data": {
            "text/plain": [
              "<Figure size 800x600 with 1 Axes>"
            ],
            "image/png": "[encoded data removed]"
          },
          "metadata": {}
        }
      ]
    },
    {
      "cell_type": "markdown",
      "source": [
        "- Distribución de la edad de los empleados"
      ],
      "metadata": {
        "id": "nvdyQhCS3lMf"
      }
    },
    {
      "cell_type": "code",
      "source": [
        "# Calcular la edad de los empleados\n",
        "employee_df['F_NACIMIENTO'] = pd.to_datetime(employee_df['F_NACIMIENTO'])\n",
        "current_date = pd.to_datetime('today')\n",
        "employee_df['Edad'] = (current_date - employee_df['F_NACIMIENTO']).dt.days // 365\n",
        "\n",
        "# Crear el histograma de la distribución de la edad\n",
        "plt.figure(figsize=(10, 6))\n",
        "plt.hist(employee_df['Edad'], bins=10, edgecolor='black', color='skyblue')\n",
        "plt.title('Distribución de la Edad de los Empleados')\n",
        "plt.xlabel('Edad')\n",
        "plt.ylabel('Número de Empleados')\n",
        "plt.grid(axis='y')\n",
        "plt.show()"
      ],
      "metadata": {
        "colab": {
          "base_uri": "https://localhost:8080/",
          "height": 565
        },
        "id": "nR8E5wOd3qIX",
        "outputId": "1673a05b-f834-4161-9859-19e6d14c6c14"
      },
      "execution_count": null,
      "outputs": [
        {
          "output_type": "display_data",
          "data": {
            "text/plain": [
              "<Figure size 1000x600 with 1 Axes>"
            ],
            "image/png": "[encoded data removed]"
          },
          "metadata": {}
        }
      ]
    },
    {
      "cell_type": "markdown",
      "source": [
        " Edad media y desviación típica de los empleados"
      ],
      "metadata": {
        "id": "hj-FG2N73pb4"
      }
    },
    {
      "cell_type": "code",
      "source": [
        "# Calcular la edad media y la desviación estándar\n",
        "edad_media = employee_df['Edad'].mean()\n",
        "desviacion_estandar = employee_df['Edad'].std()\n",
        "\n",
        "print(f'Edad media de los empleados: {edad_media:.2f} años')\n",
        "print(f'Desviación estándar de la edad de los empleados: {desviacion_estandar:.2f} años')"
      ],
      "metadata": {
        "colab": {
          "base_uri": "https://localhost:8080/"
        },
        "id": "Gbt0D32-3sDX",
        "outputId": "4b61515a-c2f7-493e-b4b7-463f39df2df8"
      },
      "execution_count": null,
      "outputs": [
        {
          "output_type": "stream",
          "name": "stdout",
          "text": [
            "Edad media de los empleados: 40.00 años\n",
            "Desviación estándar de la edad de los empleados: 13.14 años\n"
          ]
        }
      ]
    },
    {
      "cell_type": "markdown",
      "source": [
        "# Proyectos"
      ],
      "metadata": {
        "id": "IfArOWm_Ay9f"
      }
    },
    {
      "cell_type": "markdown",
      "source": [
        "Número de proyectos activos, finalizados y total"
      ],
      "metadata": {
        "id": "ztEhn7Wv4ksM"
      }
    },
    {
      "cell_type": "code",
      "source": [
        "# Convertir las columnas de fechas a tipo datetime\n",
        "project_df['F_INICIO'] = pd.to_datetime(project_df['F_INICIO'])\n",
        "project_df['F_FIN'] = pd.to_datetime(project_df['F_FIN'])\n",
        "project_df['F_BAJA'] = pd.to_datetime(project_df['F_BAJA'], errors='coerce')\n",
        "# Calcular el número de proyectos finalizados (fecha de fin menor a la fecha actual)\n",
        "current_date = pd.to_datetime('today')\n",
        "proyectos_finalizados = project_df[project_df['F_FIN'] < current_date].shape[0]\n",
        "\n",
        "# Calcular el número de proyectos activos (fecha de fin mayor o igual a la fecha actual y no tienen fecha de baja)\n",
        "proyectos_activos = project_df[(project_df['F_FIN'] >= current_date) & (project_df['F_BAJA'].isna())].shape[0]\n",
        "\n",
        "# Calcular el número total de proyectos\n",
        "proyectos_totales = project_df.shape[0]\n",
        "\n",
        "print(f'Número de proyectos activos: {proyectos_activos}')\n",
        "print(f'Número de proyectos finalizados: {proyectos_finalizados}')\n",
        "print(f'Número total de proyectos: {proyectos_totales}')"
      ],
      "metadata": {
        "colab": {
          "base_uri": "https://localhost:8080/"
        },
        "id": "s3aoCkfg4v-d",
        "outputId": "9f951b42-3d0e-40c0-92cf-089a55abcffc"
      },
      "execution_count": null,
      "outputs": [
        {
          "output_type": "stream",
          "name": "stdout",
          "text": [
            "Número de proyectos activos: 5\n",
            "Número de proyectos finalizados: 1\n",
            "Número total de proyectos: 6\n"
          ]
        }
      ]
    },
    {
      "cell_type": "markdown",
      "source": [
        "Distribución de la duración de los proyectos (histograma)"
      ],
      "metadata": {
        "id": "gCJeraWB5EdB"
      }
    },
    {
      "cell_type": "code",
      "source": [
        "# Calcular la duración de los proyectos en días\n",
        "project_df['DURACION_DIAS'] = (project_df['F_FIN'] - project_df['F_INICIO']).dt.days\n",
        "\n",
        "# Crear el histograma de la duración de los proyectos\n",
        "plt.figure(figsize=(10, 6))\n",
        "plt.hist(project_df['DURACION_DIAS'], bins=5, edgecolor='black', color='skyblue')\n",
        "plt.title('Distribución de la Duración de los Proyectos')\n",
        "plt.xlabel('Duración (días)')\n",
        "plt.ylabel('Número de Proyectos')\n",
        "plt.grid(axis='y')\n",
        "plt.show()\n"
      ],
      "metadata": {
        "colab": {
          "base_uri": "https://localhost:8080/",
          "height": 565
        },
        "id": "AGvQcLWA5E5x",
        "outputId": "1c728de6-8ffd-4950-ac19-ce3ba8617458"
      },
      "execution_count": null,
      "outputs": [
        {
          "output_type": "display_data",
          "data": {
            "text/plain": [
              "<Figure size 1000x600 with 1 Axes>"
            ],
            "image/png": "[encoded data removed]"
          },
          "metadata": {}
        }
      ]
    },
    {
      "cell_type": "markdown",
      "source": [
        "Distribución de proyectos por lugar"
      ],
      "metadata": {
        "id": "vtyPbAfb5Nww"
      }
    },
    {
      "cell_type": "code",
      "source": [
        "# Contar el número de proyectos por lugar\n",
        "proyectos_por_lugar = project_df['TX_LUGAR'].value_counts()\n",
        "\n",
        "# Crear el gráfico de barras de la distribución de proyectos por lugar\n",
        "plt.figure(figsize=(8, 6))\n",
        "proyectos_por_lugar.plot(kind='bar', color='salmon', edgecolor='black')\n",
        "plt.title('Distribución de Proyectos por Lugar')\n",
        "plt.xlabel('Lugar')\n",
        "plt.ylabel('Número de Proyectos')\n",
        "plt.xticks(rotation=0)\n",
        "plt.show()\n",
        "\n"
      ],
      "metadata": {
        "colab": {
          "base_uri": "https://localhost:8080/",
          "height": 565
        },
        "id": "Omq6QYVG5OLN",
        "outputId": "5a6fdbf7-8362-46ff-9c0e-0cbca7987dd3"
      },
      "execution_count": null,
      "outputs": [
        {
          "output_type": "display_data",
          "data": {
            "text/plain": [
              "<Figure size 800x600 with 1 Axes>"
            ],
            "image/png": "[encoded data removed]"
          },
          "metadata": {}
        }
      ]
    },
    {
      "cell_type": "markdown",
      "source": [
        "# Proyectos y Empleados"
      ],
      "metadata": {
        "id": "UGfGfvaQA8eo"
      }
    },
    {
      "cell_type": "markdown",
      "source": [
        "Distribuir el número de proyectos a los que están asignados los empleados en activo"
      ],
      "metadata": {
        "id": "8rAZJTlW5qnZ"
      }
    },
    {
      "cell_type": "code",
      "source": [
        "# Calcular el número de proyectos a los que está asignado cada empleado\n",
        "proyectos_por_empleado = asignaciones_df.groupby('ID_EMPLEADO')['ID_PROYECTO'].nunique()\n",
        "\n",
        "# Calcular la distribución del número de proyectos\n",
        "distribucion_proyectos = proyectos_por_empleado.value_counts().sort_index()\n",
        "\n",
        "# Convertir a un DataFrame para mejor visualización\n",
        "distribucion_proyectos_df = distribucion_proyectos.reset_index()\n",
        "distribucion_proyectos_df.columns = ['Número de proyectos', 'Número de empleados']\n",
        "\n",
        "# Mostrar el resultado\n",
        "distribucion_proyectos_df\n",
        "\n"
      ],
      "metadata": {
        "colab": {
          "base_uri": "https://localhost:8080/",
          "height": 206
        },
        "id": "3FmSUsc15q-a",
        "outputId": "49037444-b23b-43e4-97c1-c5dc6827731b"
      },
      "execution_count": null,
      "outputs": [
        {
          "output_type": "execute_result",
          "data": {
            "text/plain": [
              "   Número de proyectos  Número de empleados\n",
              "0                    1                    5\n",
              "1                    2                    1\n",
              "2                    3                    7\n",
              "3                    4                    3\n",
              "4                    5                    2"
            ],
            "text/html": [
              "\n",
              "  <div id=\"df-6808be1f-8215-4126-ab5c-6d0d3cd07b10\" class=\"colab-df-container\">\n",
              "    <div>\n",
              "<style scoped>\n",
              "    .dataframe tbody tr th:only-of-type {\n",
              "        vertical-align: middle;\n",
              "    }\n",
              "\n",
              "    .dataframe tbody tr th {\n",
              "        vertical-align: top;\n",
              "    }\n",
              "\n",
              "    .dataframe thead th {\n",
              "        text-align: right;\n",
              "    }\n",
              "</style>\n",
              "<table border=\"1\" class=\"dataframe\">\n",
              "  <thead>\n",
              "    <tr style=\"text-align: right;\">\n",
              "      <th></th>\n",
              "      <th>Número de proyectos</th>\n",
              "      <th>Número de empleados</th>\n",
              "    </tr>\n",
              "  </thead>\n",
              "  <tbody>\n",
              "    <tr>\n",
              "      <th>0</th>\n",
              "      <td>1</td>\n",
              "      <td>5</td>\n",
              "    </tr>\n",
              "    <tr>\n",
              "      <th>1</th>\n",
              "      <td>2</td>\n",
              "      <td>1</td>\n",
              "    </tr>\n",
              "    <tr>\n",
              "      <th>2</th>\n",
              "      <td>3</td>\n",
              "      <td>7</td>\n",
              "    </tr>\n",
              "    <tr>\n",
              "      <th>3</th>\n",
              "      <td>4</td>\n",
              "      <td>3</td>\n",
              "    </tr>\n",
              "    <tr>\n",
              "      <th>4</th>\n",
              "      <td>5</td>\n",
              "      <td>2</td>\n",
              "    </tr>\n",
              "  </tbody>\n",
              "</table>\n",
              "</div>\n",
              "    <div class=\"colab-df-buttons\">\n",
              "\n",
              "  <div class=\"colab-df-container\">\n",
              "    <button class=\"colab-df-convert\" onclick=\"convertToInteractive('df-6808be1f-8215-4126-ab5c-6d0d3cd07b10')\"\n",
              "            title=\"Convert this dataframe to an interactive table.\"\n",
              "            style=\"display:none;\">\n",
              "\n",
              "  <svg xmlns=\"http://www.w3.org/2000/svg\" height=\"24px\" viewBox=\"0 -960 960 960\">\n",
              "    <path d=\"M120-120v-720h720v720H120Zm60-500h600v-160H180v160Zm220 220h160v-160H400v160Zm0 220h160v-160H400v160ZM180-400h160v-160H180v160Zm440 0h160v-160H620v160ZM180-180h160v-160H180v160Zm440 0h160v-160H620v160Z\"/>\n",
              "  </svg>\n",
              "    </button>\n",
              "\n",
              "  <style>\n",
              "    .colab-df-container {\n",
              "      display:flex;\n",
              "      gap: 12px;\n",
              "    }\n",
              "\n",
              "    .colab-df-convert {\n",
              "      background-color: #E8F0FE;\n",
              "      border: none;\n",
              "      border-radius: 50%;\n",
              "      cursor: pointer;\n",
              "      display: none;\n",
              "      fill: #1967D2;\n",
              "      height: 32px;\n",
              "      padding: 0 0 0 0;\n",
              "      width: 32px;\n",
              "    }\n",
              "\n",
              "    .colab-df-convert:hover {\n",
              "      background-color: #E2EBFA;\n",
              "      box-shadow: 0px 1px 2px rgba(60, 64, 67, 0.3), 0px 1px 3px 1px rgba(60, 64, 67, 0.15);\n",
              "      fill: #174EA6;\n",
              "    }\n",
              "\n",
              "    .colab-df-buttons div {\n",
              "      margin-bottom: 4px;\n",
              "    }\n",
              "\n",
              "    [theme=dark] .colab-df-convert {\n",
              "      background-color: #3B4455;\n",
              "      fill: #D2E3FC;\n",
              "    }\n",
              "\n",
              "    [theme=dark] .colab-df-convert:hover {\n",
              "      background-color: #434B5C;\n",
              "      box-shadow: 0px 1px 3px 1px rgba(0, 0, 0, 0.15);\n",
              "      filter: drop-shadow(0px 1px 2px rgba(0, 0, 0, 0.3));\n",
              "      fill: #FFFFFF;\n",
              "    }\n",
              "  </style>\n",
              "\n",
              "    <script>\n",
              "      const buttonEl =\n",
              "        document.querySelector('#df-6808be1f-8215-4126-ab5c-6d0d3cd07b10 button.colab-df-convert');\n",
              "      buttonEl.style.display =\n",
              "        google.colab.kernel.accessAllowed ? 'block' : 'none';\n",
              "\n",
              "      async function convertToInteractive(key) {\n",
              "        const element = document.querySelector('#df-6808be1f-8215-4126-ab5c-6d0d3cd07b10');\n",
              "        const dataTable =\n",
              "          await google.colab.kernel.invokeFunction('convertToInteractive',\n",
              "                                                    [key], {});\n",
              "        if (!dataTable) return;\n",
              "\n",
              "        const docLinkHtml = 'Like what you see? Visit the ' +\n",
              "          '<a target=\"_blank\" href=https://colab.research.google.com/notebooks/data_table.ipynb>data table notebook</a>'\n",
              "          + ' to learn more about interactive tables.';\n",
              "        element.innerHTML = '';\n",
              "        dataTable['output_type'] = 'display_data';\n",
              "        await google.colab.output.renderOutput(dataTable, element);\n",
              "        const docLink = document.createElement('div');\n",
              "        docLink.innerHTML = docLinkHtml;\n",
              "        element.appendChild(docLink);\n",
              "      }\n",
              "    </script>\n",
              "  </div>\n",
              "\n",
              "\n",
              "<div id=\"df-3d681f76-1742-429a-b9d3-ae02df89de12\">\n",
              "  <button class=\"colab-df-quickchart\" onclick=\"quickchart('df-3d681f76-1742-429a-b9d3-ae02df89de12')\"\n",
              "            title=\"Suggest charts\"\n",
              "            style=\"display:none;\">\n",
              "\n",
              "<svg xmlns=\"http://www.w3.org/2000/svg\" height=\"24px\"viewBox=\"0 0 24 24\"\n",
              "     width=\"24px\">\n",
              "    <g>\n",
              "        <path d=\"M19 3H5c-1.1 0-2 .9-2 2v14c0 1.1.9 2 2 2h14c1.1 0 2-.9 2-2V5c0-1.1-.9-2-2-2zM9 17H7v-7h2v7zm4 0h-2V7h2v10zm4 0h-2v-4h2v4z\"/>\n",
              "    </g>\n",
              "</svg>\n",
              "  </button>\n",
              "\n",
              "<style>\n",
              "  .colab-df-quickchart {\n",
              "      --bg-color: #E8F0FE;\n",
              "      --fill-color: #1967D2;\n",
              "      --hover-bg-color: #E2EBFA;\n",
              "      --hover-fill-color: #174EA6;\n",
              "      --disabled-fill-color: #AAA;\n",
              "      --disabled-bg-color: #DDD;\n",
              "  }\n",
              "\n",
              "  [theme=dark] .colab-df-quickchart {\n",
              "      --bg-color: #3B4455;\n",
              "      --fill-color: #D2E3FC;\n",
              "      --hover-bg-color: #434B5C;\n",
              "      --hover-fill-color: #FFFFFF;\n",
              "      --disabled-bg-color: #3B4455;\n",
              "      --disabled-fill-color: #666;\n",
              "  }\n",
              "\n",
              "  .colab-df-quickchart {\n",
              "    background-color: var(--bg-color);\n",
              "    border: none;\n",
              "    border-radius: 50%;\n",
              "    cursor: pointer;\n",
              "    display: none;\n",
              "    fill: var(--fill-color);\n",
              "    height: 32px;\n",
              "    padding: 0;\n",
              "    width: 32px;\n",
              "  }\n",
              "\n",
              "  .colab-df-quickchart:hover {\n",
              "    background-color: var(--hover-bg-color);\n",
              "    box-shadow: 0 1px 2px rgba(60, 64, 67, 0.3), 0 1px 3px 1px rgba(60, 64, 67, 0.15);\n",
              "    fill: var(--button-hover-fill-color);\n",
              "  }\n",
              "\n",
              "  .colab-df-quickchart-complete:disabled,\n",
              "  .colab-df-quickchart-complete:disabled:hover {\n",
              "    background-color: var(--disabled-bg-color);\n",
              "    fill: var(--disabled-fill-color);\n",
              "    box-shadow: none;\n",
              "  }\n",
              "\n",
              "  .colab-df-spinner {\n",
              "    border: 2px solid var(--fill-color);\n",
              "    border-color: transparent;\n",
              "    border-bottom-color: var(--fill-color);\n",
              "    animation:\n",
              "      spin 1s steps(1) infinite;\n",
              "  }\n",
              "\n",
              "  @keyframes spin {\n",
              "    0% {\n",
              "      border-color: transparent;\n",
              "      border-bottom-color: var(--fill-color);\n",
              "      border-left-color: var(--fill-color);\n",
              "    }\n",
              "    20% {\n",
              "      border-color: transparent;\n",
              "      border-left-color: var(--fill-color);\n",
              "      border-top-color: var(--fill-color);\n",
              "    }\n",
              "    30% {\n",
              "      border-color: transparent;\n",
              "      border-left-color: var(--fill-color);\n",
              "      border-top-color: var(--fill-color);\n",
              "      border-right-color: var(--fill-color);\n",
              "    }\n",
              "    40% {\n",
              "      border-color: transparent;\n",
              "      border-right-color: var(--fill-color);\n",
              "      border-top-color: var(--fill-color);\n",
              "    }\n",
              "    60% {\n",
              "      border-color: transparent;\n",
              "      border-right-color: var(--fill-color);\n",
              "    }\n",
              "    80% {\n",
              "      border-color: transparent;\n",
              "      border-right-color: var(--fill-color);\n",
              "      border-bottom-color: var(--fill-color);\n",
              "    }\n",
              "    90% {\n",
              "      border-color: transparent;\n",
              "      border-bottom-color: var(--fill-color);\n",
              "    }\n",
              "  }\n",
              "</style>\n",
              "\n",
              "  <script>\n",
              "    async function quickchart(key) {\n",
              "      const quickchartButtonEl =\n",
              "        document.querySelector('#' + key + ' button');\n",
              "      quickchartButtonEl.disabled = true;  // To prevent multiple clicks.\n",
              "      quickchartButtonEl.classList.add('colab-df-spinner');\n",
              "      try {\n",
              "        const charts = await google.colab.kernel.invokeFunction(\n",
              "            'suggestCharts', [key], {});\n",
              "      } catch (error) {\n",
              "        console.error('Error during call to suggestCharts:', error);\n",
              "      }\n",
              "      quickchartButtonEl.classList.remove('colab-df-spinner');\n",
              "      quickchartButtonEl.classList.add('colab-df-quickchart-complete');\n",
              "    }\n",
              "    (() => {\n",
              "      let quickchartButtonEl =\n",
              "        document.querySelector('#df-3d681f76-1742-429a-b9d3-ae02df89de12 button');\n",
              "      quickchartButtonEl.style.display =\n",
              "        google.colab.kernel.accessAllowed ? 'block' : 'none';\n",
              "    })();\n",
              "  </script>\n",
              "</div>\n",
              "    </div>\n",
              "  </div>\n"
            ],
            "application/vnd.google.colaboratory.intrinsic+json": {
              "type": "dataframe",
              "variable_name": "distribucion_proyectos_df",
              "summary": "{\n  \"name\": \"distribucion_proyectos_df\",\n  \"rows\": 5,\n  \"fields\": [\n    {\n      \"column\": \"N\\u00famero de proyectos\",\n      \"properties\": {\n        \"dtype\": \"number\",\n        \"std\": 1,\n        \"min\": 1,\n        \"max\": 5,\n        \"num_unique_values\": 5,\n        \"samples\": [\n          2,\n          5,\n          3\n        ],\n        \"semantic_type\": \"\",\n        \"description\": \"\"\n      }\n    },\n    {\n      \"column\": \"N\\u00famero de empleados\",\n      \"properties\": {\n        \"dtype\": \"number\",\n        \"std\": 2,\n        \"min\": 1,\n        \"max\": 7,\n        \"num_unique_values\": 5,\n        \"samples\": [\n          1,\n          2,\n          7\n        ],\n        \"semantic_type\": \"\",\n        \"description\": \"\"\n      }\n    }\n  ]\n}"
            }
          },
          "metadata": {},
          "execution_count": 238
        }
      ]
    },
    {
      "cell_type": "markdown",
      "source": [
        "Top 5 proyectos con más personas asignadas"
      ],
      "metadata": {
        "id": "-DpjpF276GsG"
      }
    },
    {
      "cell_type": "code",
      "source": [
        "# Contar el número de empleados asignados a cada proyecto\n",
        "empleados_por_proyecto = asignaciones_df['ID_PROYECTO'].value_counts().reset_index()\n",
        "empleados_por_proyecto.columns = ['ID_PROYECTO', 'Número de Empleados']\n",
        "\n",
        "# Obtener los top 5 proyectos con más personas asignadas\n",
        "top_5_proyectos = empleados_por_proyecto.head(5)\n",
        "\n",
        "# Mostrar los top 5 proyectos\n",
        "print(top_5_proyectos)\n"
      ],
      "metadata": {
        "colab": {
          "base_uri": "https://localhost:8080/"
        },
        "id": "m-ttfYei6Itq",
        "outputId": "2a9d7e33-3e34-4021-87d8-036d6b43e719"
      },
      "execution_count": null,
      "outputs": [
        {
          "output_type": "stream",
          "name": "stdout",
          "text": [
            "   ID_PROYECTO  Número de Empleados\n",
            "0          152                   10\n",
            "1          154                   10\n",
            "2          102                    9\n",
            "3          156                    9\n",
            "4          153                    8\n"
          ]
        }
      ]
    },
    {
      "cell_type": "markdown",
      "source": [
        "Lista de proyectos sin personas asignadas (detección de anomalía)"
      ],
      "metadata": {
        "id": "7BbF4czP6Knc"
      }
    },
    {
      "cell_type": "code",
      "source": [
        "# Identificar proyectos sin personas asignadas\n",
        "proyectos_sin_asignacion = project_df[~project_df['ID_PROYECTO'].isin(asignaciones_df['ID_PROYECTO'])]\n",
        "\n",
        "# Mostrar proyectos sin personas asignadas\n",
        "print(proyectos_sin_asignacion)\n"
      ],
      "metadata": {
        "colab": {
          "base_uri": "https://localhost:8080/"
        },
        "id": "kbnf35vT6Mcs",
        "outputId": "3a4167ce-fb67-4777-aad1-b24d77aa54b2"
      },
      "execution_count": null,
      "outputs": [
        {
          "output_type": "stream",
          "name": "stdout",
          "text": [
            "Empty DataFrame\n",
            "Columns: [ID_PROYECTO, F_INICIO, F_FIN, F_BAJA, TX_LUGAR, TX_OBSERVACIONES, TX_DESCRIPCION]\n",
            "Index: []\n"
          ]
        }
      ]
    }
  ]
}